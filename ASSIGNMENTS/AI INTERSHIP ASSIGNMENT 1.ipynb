{
 "cells": [
  {
   "cell_type": "code",
   "execution_count": 1,
   "metadata": {},
   "outputs": [
    {
     "name": "stdout",
     "output_type": "stream",
     "text": [
      "   Feature 1  Feature 2  Feature 3  Feature 4\n",
      "0   0.374540   0.950714   0.731994   0.598658\n",
      "1   0.156019   0.155995   0.058084   0.866176\n",
      "2   0.601115   0.708073   0.020584   0.969910\n",
      "3   0.832443   0.212339   0.181825   0.183405\n"
     ]
    }
   ],
   "source": [
    "\"\"\" TASK-1 => Create a pandas dataframe (DataFrame name as 'df') with numpy random values (4 features and 4 observation\"\"\"\n",
    "\n",
    "\n",
    "# CODE :\n",
    "\n",
    "import pandas as pd\n",
    "import numpy as np\n",
    "\n",
    "np.random.seed(42)\n",
    "\n",
    "random_array = np.random.rand(4, 4)\n",
    "\n",
    "df = pd.DataFrame(random_array, columns=['Feature 1', 'Feature 2', 'Feature 3', 'Feature 4'])\n",
    "\n",
    "print(df)\n"
   ]
  },
  {
   "cell_type": "code",
   "execution_count": 2,
   "metadata": {},
   "outputs": [
    {
     "name": "stdout",
     "output_type": "stream",
     "text": [
      "   Random value 1  Random value 2  Random value 3  Random value 4\n",
      "0        0.374540        0.950714        0.731994        0.598658\n",
      "1        0.156019        0.155995        0.058084        0.866176\n",
      "2        0.601115        0.708073        0.020584        0.969910\n",
      "3        0.832443        0.212339        0.181825        0.183405\n"
     ]
    }
   ],
   "source": [
    "\"\"\"TASK -2 =>Rename the task - 1 'df' dataframe column names to 'Random value 1', 'Random value 2', \n",
    "'Random value 3' & 'Random value 4'\"\"\"\n",
    "\n",
    "# CODE:\n",
    "\n",
    "import pandas as pd\n",
    "import numpy as np\n",
    "\n",
    "np.random.seed(42)\n",
    "\n",
    "random_array = np.random.rand(4, 4)\n",
    "\n",
    "df = pd.DataFrame(random_array, columns=['Feature 1', 'Feature 2', 'Feature 3', 'Feature 4'])\n",
    "\n",
    "new_column_names = {\n",
    "    'Feature 1': 'Random value 1',\n",
    "    'Feature 2': 'Random value 2',\n",
    "    'Feature 3': 'Random value 3',\n",
    "    'Feature 4': 'Random value 4'\n",
    "}\n",
    "\n",
    "df = df.rename(columns=new_column_names)\n",
    "\n",
    "print(df)\n"
   ]
  },
  {
   "cell_type": "code",
   "execution_count": 3,
   "metadata": {},
   "outputs": [
    {
     "name": "stdout",
     "output_type": "stream",
     "text": [
      "       Random value 1  Random value 2  Random value 3  Random value 4\n",
      "count        4.000000        4.000000        4.000000        4.000000\n",
      "mean         0.491029        0.506780        0.248122        0.654537\n",
      "std          0.291252        0.386153        0.329856        0.350875\n",
      "min          0.156019        0.155995        0.020584        0.183405\n",
      "25%          0.319910        0.198253        0.048709        0.494845\n",
      "50%          0.487828        0.460206        0.119954        0.732417\n",
      "75%          0.658947        0.768733        0.319367        0.892110\n",
      "max          0.832443        0.950714        0.731994        0.969910\n"
     ]
    }
   ],
   "source": [
    "\"\"\"TASK-3 =>  Find the descriptive statistics of the 'df' dataframe.\"\"\"\n",
    "\n",
    "\n",
    "# CODE :\n",
    "\n",
    "import pandas as pd\n",
    "import numpy as np\n",
    "\n",
    "np.random.seed(42)\n",
    "\n",
    "random_array = np.random.rand(4, 4)\n",
    "\n",
    "df = pd.DataFrame(random_array, columns=['Random value 1', 'Random value 2', 'Random value 3', 'Random value 4'])\n",
    "\n",
    "statistics = df.describe()\n",
    "\n",
    "print(statistics)\n"
   ]
  },
  {
   "cell_type": "code",
   "execution_count": 4,
   "metadata": {},
   "outputs": [
    {
     "name": "stdout",
     "output_type": "stream",
     "text": [
      "Null values in the DataFrame:\n",
      "Random value 1    0\n",
      "Random value 2    0\n",
      "Random value 3    0\n",
      "Random value 4    0\n",
      "dtype: int64\n",
      "\n",
      "Data types of columns:\n",
      "Random value 1    float64\n",
      "Random value 2    float64\n",
      "Random value 3    float64\n",
      "Random value 4    float64\n",
      "dtype: object\n"
     ]
    }
   ],
   "source": [
    "\"\"\"TASK-4 => Check for the null values in 'df' and find the data type of the columns.\"\"\"\n",
    "\n",
    "# CODE ;\n",
    "\n",
    "import pandas as pd\n",
    "import numpy as np\n",
    "\n",
    "np.random.seed(42)\n",
    "\n",
    "random_array = np.random.rand(4, 4)\n",
    "\n",
    "df = pd.DataFrame(random_array, columns=['Random value 1', 'Random value 2', 'Random value 3', 'Random value 4'])\n",
    "\n",
    "null_values = df.isnull().sum()\n",
    "print(\"Null values in the DataFrame:\")\n",
    "print(null_values)\n",
    "\n",
    "data_types = df.dtypes\n",
    "print(\"\\nData types of columns:\")\n",
    "print(data_types)\n",
    "\n"
   ]
  },
  {
   "cell_type": "code",
   "execution_count": 5,
   "metadata": {},
   "outputs": [
    {
     "name": "stdout",
     "output_type": "stream",
     "text": [
      "Columns using the location method:\n",
      "   Random value 2  Random value 3\n",
      "0        0.950714        0.731994\n",
      "1        0.155995        0.058084\n",
      "2        0.708073        0.020584\n",
      "3        0.212339        0.181825\n",
      "\n",
      "Columns using the index location method:\n",
      "   Random value 2  Random value 3\n",
      "0        0.950714        0.731994\n",
      "1        0.155995        0.058084\n",
      "2        0.708073        0.020584\n",
      "3        0.212339        0.181825\n"
     ]
    }
   ],
   "source": [
    "\"\"\" TASK-5 => Display the 'Random value 2' & 'Random value 3' columns with location method and index location method\"\"\"\n",
    "\n",
    "\n",
    "# CODE :\n",
    "\n",
    "\n",
    "import pandas as pd\n",
    "import numpy as np\n",
    "\n",
    "np.random.seed(42)\n",
    "\n",
    "random_array = np.random.rand(4, 4)\n",
    "\n",
    "df = pd.DataFrame(random_array, columns=['Random value 1', 'Random value 2', 'Random value 3', 'Random value 4'])\n",
    "\n",
    "location_method_columns = df.iloc[:, 1:3]\n",
    "print(\"Columns using the location method:\")\n",
    "print(location_method_columns)\n",
    "\n",
    "index_location_method_columns = df[['Random value 2', 'Random value 3']]\n",
    "print(\"\\nColumns using the index location method:\")\n",
    "print(index_location_method_columns)\n",
    "\n"
   ]
  }
 ],
 "metadata": {
  "kernelspec": {
   "display_name": "Python 3",
   "language": "python",
   "name": "python3"
  },
  "language_info": {
   "codemirror_mode": {
    "name": "ipython",
    "version": 3
   },
   "file_extension": ".py",
   "mimetype": "text/x-python",
   "name": "python",
   "nbconvert_exporter": "python",
   "pygments_lexer": "ipython3",
   "version": "3.8.3"
  }
 },
 "nbformat": 4,
 "nbformat_minor": 4
}
